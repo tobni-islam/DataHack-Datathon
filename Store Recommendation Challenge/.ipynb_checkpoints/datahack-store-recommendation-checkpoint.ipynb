{
 "cells": [
  {
   "cell_type": "code",
   "execution_count": 1,
   "metadata": {
    "_cell_guid": "b1076dfc-b9ad-4769-8c92-a6c4dae69d19",
    "_uuid": "8f2839f25d086af736a60e9eeb907d3b93b6e0e5",
    "execution": {
     "iopub.execute_input": "2024-03-08T09:06:19.552622Z",
     "iopub.status.busy": "2024-03-08T09:06:19.552183Z",
     "iopub.status.idle": "2024-03-08T09:06:22.575773Z",
     "shell.execute_reply": "2024-03-08T09:06:22.573931Z",
     "shell.execute_reply.started": "2024-03-08T09:06:19.552591Z"
    }
   },
   "outputs": [],
   "source": [
    "import networkx as nx\n",
    "import numpy as np\n",
    "import pandas as pd"
   ]
  },
  {
   "cell_type": "code",
   "execution_count": 2,
   "metadata": {
    "execution": {
     "iopub.execute_input": "2024-03-08T09:06:22.579371Z",
     "iopub.status.busy": "2024-03-08T09:06:22.578736Z",
     "iopub.status.idle": "2024-03-08T09:06:24.878492Z",
     "shell.execute_reply": "2024-03-08T09:06:24.876913Z",
     "shell.execute_reply.started": "2024-03-08T09:06:22.579335Z"
    }
   },
   "outputs": [
    {
     "data": {
      "text/plain": [
       "[['1', '88160'],\n",
       " ['1', '118052'],\n",
       " ['1', '161555'],\n",
       " ['1', '244916'],\n",
       " ['1', '346495'],\n",
       " ['1', '444232'],\n",
       " ['1', '447165'],\n",
       " ['1', '500600'],\n",
       " ['2', '27133'],\n",
       " ['2', '62291']]"
      ]
     },
     "execution_count": 2,
     "metadata": {},
     "output_type": "execute_result"
    }
   ],
   "source": [
    "graph_path = \"graph.net\"\n",
    "edges = [line.strip().split() for line in open(graph_path)]\n",
    "edges[:10]"
   ]
  },
  {
   "cell_type": "code",
   "execution_count": 3,
   "metadata": {
    "execution": {
     "iopub.execute_input": "2024-03-08T09:06:24.880135Z",
     "iopub.status.busy": "2024-03-08T09:06:24.879786Z",
     "iopub.status.idle": "2024-03-08T09:06:26.801649Z",
     "shell.execute_reply": "2024-03-08T09:06:26.800197Z",
     "shell.execute_reply.started": "2024-03-08T09:06:24.880106Z"
    }
   },
   "outputs": [],
   "source": [
    "edges_num = []\n",
    "for e in edges:\n",
    "    edges_num.append([int(e[0]), int(e[1])])"
   ]
  },
  {
   "cell_type": "code",
   "execution_count": 4,
   "metadata": {
    "execution": {
     "iopub.execute_input": "2024-03-08T09:06:26.805024Z",
     "iopub.status.busy": "2024-03-08T09:06:26.804620Z",
     "iopub.status.idle": "2024-03-08T09:06:30.328800Z",
     "shell.execute_reply": "2024-03-08T09:06:30.326607Z",
     "shell.execute_reply.started": "2024-03-08T09:06:26.804993Z"
    }
   },
   "outputs": [],
   "source": [
    "G = nx.Graph()\n",
    "G.add_edges_from(edges_num)"
   ]
  },
  {
   "cell_type": "code",
   "execution_count": 5,
   "metadata": {
    "execution": {
     "iopub.execute_input": "2024-03-08T09:06:30.331399Z",
     "iopub.status.busy": "2024-03-08T09:06:30.330916Z",
     "iopub.status.idle": "2024-03-08T09:06:30.342353Z",
     "shell.execute_reply": "2024-03-08T09:06:30.341340Z",
     "shell.execute_reply.started": "2024-03-08T09:06:30.331352Z"
    }
   },
   "outputs": [],
   "source": [
    "import community as community_louvain"
   ]
  },
  {
   "cell_type": "code",
   "execution_count": null,
   "metadata": {
    "execution": {
     "iopub.execute_input": "2024-03-08T09:06:30.345756Z",
     "iopub.status.busy": "2024-03-08T09:06:30.344057Z",
     "iopub.status.idle": "2024-03-08T09:10:48.980981Z",
     "shell.execute_reply": "2024-03-08T09:10:48.979531Z",
     "shell.execute_reply.started": "2024-03-08T09:06:30.345698Z"
    }
   },
   "outputs": [],
   "source": [
    "partition = community_louvain.best_partition(G)"
   ]
  },
  {
   "cell_type": "code",
   "execution_count": null,
   "metadata": {
    "execution": {
     "iopub.execute_input": "2024-03-08T09:10:48.983959Z",
     "iopub.status.busy": "2024-03-08T09:10:48.983523Z",
     "iopub.status.idle": "2024-03-08T09:10:49.001315Z",
     "shell.execute_reply": "2024-03-08T09:10:48.999884Z",
     "shell.execute_reply.started": "2024-03-08T09:10:48.983925Z"
    }
   },
   "outputs": [],
   "source": [
    "num_communities = len(set(partition.values()))\n",
    "num_communities"
   ]
  },
  {
   "cell_type": "code",
   "execution_count": null,
   "metadata": {
    "execution": {
     "iopub.execute_input": "2024-03-08T09:10:49.004208Z",
     "iopub.status.busy": "2024-03-08T09:10:49.003834Z",
     "iopub.status.idle": "2024-03-08T09:10:56.530713Z",
     "shell.execute_reply": "2024-03-08T09:10:56.529179Z",
     "shell.execute_reply.started": "2024-03-08T09:10:49.004178Z"
    }
   },
   "outputs": [],
   "source": [
    "modularity = community_louvain.modularity(partition, G)\n",
    "modularity"
   ]
  },
  {
   "cell_type": "code",
   "execution_count": null,
   "metadata": {},
   "outputs": [],
   "source": [
    "max(partition.values())"
   ]
  },
  {
   "cell_type": "code",
   "execution_count": null,
   "metadata": {},
   "outputs": [],
   "source": [
    "communities = {}\n",
    "for key, value in partition.items():\n",
    "    if value in communities:\n",
    "        communities[value].append(key)\n",
    "    else:\n",
    "        communities[value] = [key]"
   ]
  },
  {
   "cell_type": "markdown",
   "metadata": {
    "execution": {
     "iopub.execute_input": "2024-03-08T09:10:56.533864Z",
     "iopub.status.busy": "2024-03-08T09:10:56.533185Z",
     "iopub.status.idle": "2024-03-08T09:10:57.333943Z",
     "shell.execute_reply": "2024-03-08T09:10:57.332331Z",
     "shell.execute_reply.started": "2024-03-08T09:10:56.533809Z"
    }
   },
   "source": [
    "# Number of blocks (communities)\n",
    "num_blocks = max(partition.values()) + 1\n",
    "\n",
    "# Initialize edge-propensity parameters\n",
    "theta = np.ones((num_blocks, num_blocks))\n",
    "\n",
    "# EM algorithm\n",
    "def em_algorithm(G, partition, num_blocks, theta_init=None):\n",
    "    if theta_init is None:\n",
    "        theta = np.ones((num_blocks, num_blocks))\n",
    "    else:\n",
    "        theta = theta_init.copy()\n",
    "    \n",
    "    for _ in range(100): # Maximum number of iterations\n",
    "        # E-step: Estimate the community assignments\n",
    "        for u, v in G.edges():\n",
    "            r = partition[u]\n",
    "            s = partition[v]\n",
    "            theta[r, s] += 1\n",
    "        \n",
    "        # M-step: Update the edge-propensity parameters\n",
    "        for i in range(num_blocks):\n",
    "            for j in range(num_blocks):\n",
    "                if theta[i, j] > 0:\n",
    "                    theta[i, j] /= np.sum(theta[i, :])\n",
    "    \n",
    "    return theta"
   ]
  },
  {
   "cell_type": "markdown",
   "metadata": {},
   "source": [
    "optimal_theta = em_algorithm(G, partition, num_blocks)"
   ]
  },
  {
   "cell_type": "markdown",
   "metadata": {},
   "source": [
    "optimal_theta.shape"
   ]
  },
  {
   "cell_type": "markdown",
   "metadata": {},
   "source": [
    "purchase_probabilities = {}\n",
    "for u, v in G.edges():\n",
    "    r = partition[u]\n",
    "    s = partition[v]\n",
    "    theta_rs = optimal_theta[r, s]\n",
    "    c = G.degree(u) # Degree of customer node\n",
    "    p = G.degree(v) # Degree of product node\n",
    "    # Scaling factor (this is an example; adjust as needed)\n",
    "    scaling_factor = 1.0 / (c * p)\n",
    "    probability = theta_rs * scaling_factor\n",
    "    purchase_probabilities[(u, v)] = probability"
   ]
  },
  {
   "cell_type": "markdown",
   "metadata": {},
   "source": [
    "list(purchase_probabilities.keys())[:2]"
   ]
  },
  {
   "cell_type": "code",
   "execution_count": null,
   "metadata": {},
   "outputs": [],
   "source": [
    "list_items = []\n",
    "with open('item_sets.txt') as f:\n",
    "    for line in f:\n",
    "        list_items.append(list(map(int, line.strip().split())))\n",
    "list_items[0]"
   ]
  },
  {
   "cell_type": "code",
   "execution_count": null,
   "metadata": {},
   "outputs": [],
   "source": [
    "def GetGlobalCommunity(partition, items):\n",
    "    d = {}\n",
    "    for item in items:\n",
    "        if partition[item] in d:\n",
    "            d[partition[item]] += 1\n",
    "        else:\n",
    "            d[partition[item]] = 1\n",
    "    max_key = max(d, key=d.get)\n",
    "    return max_key"
   ]
  },
  {
   "cell_type": "code",
   "execution_count": null,
   "metadata": {},
   "outputs": [],
   "source": [
    "GetGlobalCommunity(partition, list_items[0])"
   ]
  },
  {
   "cell_type": "code",
   "execution_count": null,
   "metadata": {},
   "outputs": [],
   "source": [
    "def GetItems(G, items):\n",
    "    d = {}\n",
    "    for item in items:\n",
    "        neighbors = G.neighbors(item)\n",
    "        for neighbor in neighbors:\n",
    "            if neighbor not in items:\n",
    "                if neighbor in d:\n",
    "                    d[neighbor] += 1\n",
    "                else:\n",
    "                    d[neighbor] = 1\n",
    "    keys_with_height_value = [key for key, value in d.items() if value == max(list(d.values()))]\n",
    "    \n",
    "    return keys_with_height_value"
   ]
  },
  {
   "cell_type": "code",
   "execution_count": null,
   "metadata": {},
   "outputs": [],
   "source": [
    "GetItems(G, list_items[0])"
   ]
  },
  {
   "cell_type": "code",
   "execution_count": null,
   "metadata": {},
   "outputs": [],
   "source": [
    "def PredictItem(G, partition, communities,items):\n",
    "\n",
    "    comm = GetGlobalCommunity(partition, items)\n",
    "    cand = [c for c in communities[comm] if c > max(items)]\n",
    "    min_path = -1\n",
    "    if cand == []:\n",
    "        best_item = comm[0]\n",
    "    else:\n",
    "        best_item = cand[0]\n",
    "    \n",
    "    for c in cand:\n",
    "        shortest_paths = []\n",
    "        for item in items:\n",
    "            try:\n",
    "                shortest_path_length = nx.shortest_path_length(G, c, item)\n",
    "                shortest_paths.append(shortest_path_length)\n",
    "            except nx.NetworkXNoPath:\n",
    "                pass\n",
    "        if shortest_paths:\n",
    "            avg_path = sum(shortest_paths) / len(shortest_paths)\n",
    "            if avg_path < min_path or min_path == -1:\n",
    "                min_path = avg_path\n",
    "                best_item = c\n",
    "    return best_item"
   ]
  },
  {
   "cell_type": "code",
   "execution_count": null,
   "metadata": {},
   "outputs": [],
   "source": [
    "PredictItem(G, partition, communities, list_items[0])"
   ]
  },
  {
   "cell_type": "code",
   "execution_count": null,
   "metadata": {},
   "outputs": [],
   "source": [
    "from tqdm import tqdm"
   ]
  },
  {
   "cell_type": "code",
   "execution_count": null,
   "metadata": {},
   "outputs": [],
   "source": [
    "result = []\n",
    "for i in tqdm(range():\n",
    "    result.append(PredictItem(G, partition, communities, list_items[i]))"
   ]
  },
  {
   "cell_type": "code",
   "execution_count": null,
   "metadata": {},
   "outputs": [],
   "source": [
    "len(result)"
   ]
  },
  {
   "cell_type": "code",
   "execution_count": null,
   "metadata": {},
   "outputs": [],
   "source": [
    "result"
   ]
  },
  {
   "cell_type": "code",
   "execution_count": null,
   "metadata": {},
   "outputs": [],
   "source": [
    "new_result = result + [0] * (len(list_items) - len(result))\n",
    "new_result"
   ]
  },
  {
   "cell_type": "code",
   "execution_count": null,
   "metadata": {},
   "outputs": [],
   "source": [
    "d_fin = {'id': list(range(1, len(list_items)+1)), 'target': new_result}\n",
    "df = pd.DataFrame(d_fin)\n",
    "df.head()"
   ]
  },
  {
   "cell_type": "code",
   "execution_count": null,
   "metadata": {},
   "outputs": [],
   "source": [
    "df.to_csv(\"submission_late_02.csv\", index=False)"
   ]
  },
  {
   "cell_type": "code",
   "execution_count": null,
   "metadata": {},
   "outputs": [],
   "source": [
    "len(list_items)"
   ]
  },
  {
   "cell_type": "code",
   "execution_count": null,
   "metadata": {},
   "outputs": [],
   "source": [
    "len(result)"
   ]
  },
  {
   "cell_type": "code",
   "execution_count": null,
   "metadata": {},
   "outputs": [],
   "source": [
    "correct = (0.0145 * 75149) / 2017\n",
    "correct"
   ]
  }
 ],
 "metadata": {
  "kaggle": {
   "accelerator": "none",
   "dataSources": [
    {
     "datasetId": 4560328,
     "sourceId": 7790800,
     "sourceType": "datasetVersion"
    }
   ],
   "dockerImageVersionId": 30664,
   "isGpuEnabled": false,
   "isInternetEnabled": true,
   "language": "python",
   "sourceType": "notebook"
  },
  "kernelspec": {
   "display_name": "Python 3 (ipykernel)",
   "language": "python",
   "name": "python3"
  },
  "language_info": {
   "codemirror_mode": {
    "name": "ipython",
    "version": 3
   },
   "file_extension": ".py",
   "mimetype": "text/x-python",
   "name": "python",
   "nbconvert_exporter": "python",
   "pygments_lexer": "ipython3",
   "version": "3.9.12"
  }
 },
 "nbformat": 4,
 "nbformat_minor": 4
}
